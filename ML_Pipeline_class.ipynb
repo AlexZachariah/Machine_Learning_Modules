{
  "nbformat": 4,
  "nbformat_minor": 0,
  "metadata": {
    "colab": {
      "name": "ML_Pipeline_class.ipynb",
      "provenance": [],
      "mount_file_id": "13t7sGAfqOH2rM94cA1BCldX0Osbjcs9z",
      "authorship_tag": "ABX9TyNIN3e9W/9blawETUh59asR",
      "include_colab_link": true
    },
    "kernelspec": {
      "name": "python3",
      "display_name": "Python 3"
    },
    "language_info": {
      "name": "python"
    },
    "accelerator": "GPU",
    "gpuClass": "standard"
  },
  "cells": [
    {
      "cell_type": "markdown",
      "metadata": {
        "id": "view-in-github",
        "colab_type": "text"
      },
      "source": [
        "<a href=\"https://colab.research.google.com/github/AlexZachariah/Machine_Learning_Modules/blob/main/ML_Pipeline_class.ipynb\" target=\"_parent\"><img src=\"https://colab.research.google.com/assets/colab-badge.svg\" alt=\"Open In Colab\"/></a>"
      ]
    },
    {
      "cell_type": "code",
      "execution_count": 10,
      "metadata": {
        "id": "Ul_bRJgfWohI"
      },
      "outputs": [],
      "source": [
        "#importing libraries\n",
        "\n",
        "import pandas as pd\n",
        "import numpy as np\n",
        "\n",
        "from sklearn.datasets import load_iris\n",
        "from sklearn.model_selection import train_test_split\n",
        "from sklearn.preprocessing import StandardScaler\n",
        "from sklearn.decomposition import PCA\n",
        "from sklearn.pipeline import Pipeline\n",
        "from sklearn.linear_model import LogisticRegression\n",
        "from sklearn.tree import DecisionTreeClassifier\n",
        "from sklearn.ensemble import RandomForestClassifier\n",
        "from sklearn.pipeline import make_pipeline\n",
        "from sklearn.model_selection import GridSearchCV\n"
      ]
    },
    {
      "cell_type": "code",
      "source": [
        "#loading dataset\n",
        "\n",
        "iris = load_iris()\n",
        "\n"
      ],
      "metadata": {
        "id": "8obzK1vYYCS9"
      },
      "execution_count": 11,
      "outputs": []
    },
    {
      "cell_type": "code",
      "source": [
        "X=iris.data\n",
        "y=iris.target\n"
      ],
      "metadata": {
        "id": "mYqf0XgTYOM-"
      },
      "execution_count": 12,
      "outputs": []
    },
    {
      "cell_type": "code",
      "source": [
        "X_train,X_test,y_train,y_test = train_test_split(X,y,test_size=0.3,random_state=10)\n"
      ],
      "metadata": {
        "id": "qJvIQrdeYRad"
      },
      "execution_count": 13,
      "outputs": []
    },
    {
      "cell_type": "markdown",
      "source": [
        "# Pipeline Method"
      ],
      "metadata": {
        "id": "IaQwFucWj7vs"
      }
    },
    {
      "cell_type": "code",
      "source": [
        "pipline_lr = Pipeline([('scaler1',StandardScaler()),\n",
        "                      ('pca1',PCA(n_components=2)),\n",
        "                      ('lr_clf',LogisticRegression())])\n",
        "\n",
        "pipline_dt = Pipeline([('scaler2',StandardScaler()),\n",
        "                      ('pca2',PCA(n_components=2)),\n",
        "                      ('dt_clf',DecisionTreeClassifier())])\n",
        "\n",
        "pipline_rf = Pipeline([('scaler3',StandardScaler()),\n",
        "                      ('pca3',PCA(n_components=2)),\n",
        "                      ('rf_clf',RandomForestClassifier())])\n",
        "\n",
        "                        "
      ],
      "metadata": {
        "id": "z52BT5a1YgZH"
      },
      "execution_count": 14,
      "outputs": []
    },
    {
      "cell_type": "code",
      "source": [
        "pipelines=[pipline_lr,pipline_dt,pipline_rf]\n",
        "\n",
        "for pipe in pipelines:\n",
        "  pipe.fit(X_train,y_train)\n",
        "  \n",
        "pipe_dict = {0:'Logistic Regression',1:'Decision Tree',2:'Random Forest'}\n"
      ],
      "metadata": {
        "id": "A-5eqtJSkJwo"
      },
      "execution_count": 15,
      "outputs": []
    },
    {
      "cell_type": "code",
      "source": [
        "for i,model in enumerate(pipelines):\n",
        "  print(f\" The test Accuracy for the {pipe_dict[i]} is {model.score(X_test,y_test)}\")\n"
      ],
      "metadata": {
        "colab": {
          "base_uri": "https://localhost:8080/"
        },
        "id": "w53nGACwkZ-E",
        "outputId": "d248f1a9-b27a-4000-ac78-8b3498cffcef"
      },
      "execution_count": 16,
      "outputs": [
        {
          "output_type": "stream",
          "name": "stdout",
          "text": [
            " The test Accuracy for the Logistic Regression is 0.9333333333333333\n",
            " The test Accuracy for the Decision Tree is 0.9777777777777777\n",
            " The test Accuracy for the Random Forest is 0.9333333333333333\n"
          ]
        }
      ]
    },
    {
      "cell_type": "markdown",
      "source": [
        "# Pipeline And Gridsearch"
      ],
      "metadata": {
        "id": "WlHgyBGeoQ7E"
      }
    },
    {
      "cell_type": "code",
      "source": [
        ""
      ],
      "metadata": {
        "id": "iwDs_f8RkdFu"
      },
      "execution_count": null,
      "outputs": []
    }
  ]
}